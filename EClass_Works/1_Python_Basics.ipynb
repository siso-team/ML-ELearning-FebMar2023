{
 "cells": [
  {
   "cell_type": "markdown",
   "id": "386a6b31-354f-4057-a0f6-1e9324760c39",
   "metadata": {},
   "source": [
    "# Python Basics"
   ]
  },
  {
   "cell_type": "markdown",
   "id": "19f8a0be-ff39-4aca-8e72-3897fb72b4a3",
   "metadata": {},
   "source": [
    "**1. Print & Commenting**"
   ]
  },
  {
   "cell_type": "code",
   "execution_count": 14,
   "id": "99d7cde5-1392-4b8a-8396-60ecda2e0492",
   "metadata": {},
   "outputs": [
    {
     "name": "stdout",
     "output_type": "stream",
     "text": [
      "2\n"
     ]
    }
   ],
   "source": [
    "# print(\"2\")"
   ]
  },
  {
   "cell_type": "markdown",
   "id": "b1fdaec2-2e73-4aa2-8dd0-a60e3437b140",
   "metadata": {},
   "source": [
    "**2. Variables and Data Types**"
   ]
  },
  {
   "cell_type": "code",
   "execution_count": 2,
   "id": "725dccef-d2b5-49a1-96d1-186e452516e5",
   "metadata": {},
   "outputs": [
    {
     "name": "stdout",
     "output_type": "stream",
     "text": [
      "5.66\n"
     ]
    },
    {
     "data": {
      "text/plain": [
       "str"
      ]
     },
     "execution_count": 2,
     "metadata": {},
     "output_type": "execute_result"
    }
   ],
   "source": [
    "c = str(12) # String\n",
    "c_float = 2.33 # Float\n",
    "c_add = 3.33 + c_float\n",
    "print(c_add)\n",
    "name_pers1 = \"Mohan\"\n",
    "type(name_pers1)"
   ]
  },
  {
   "cell_type": "markdown",
   "id": "cb3be438-21a2-43da-b3eb-8c7f81e39391",
   "metadata": {},
   "source": [
    "#### List"
   ]
  },
  {
   "cell_type": "code",
   "execution_count": 40,
   "id": "06d4c6da-faf9-41af-aa05-ecca92f61971",
   "metadata": {},
   "outputs": [],
   "source": [
    "poverty_idx = [2000, 2001, 2002, 2003.4, \"year 2004\"]\n",
    "poverty_pov = [14, 15, ...]"
   ]
  },
  {
   "cell_type": "code",
   "execution_count": 41,
   "id": "14a7a5e1-d082-4f1f-9682-aa5aa6ff7cf2",
   "metadata": {},
   "outputs": [],
   "source": [
    "poverty_pov.append(2006)"
   ]
  },
  {
   "cell_type": "code",
   "execution_count": 29,
   "id": "98d54e5a-6fd7-4be7-85c3-75ca115cfa6d",
   "metadata": {},
   "outputs": [],
   "source": [
    "poverty_idx[0] = 1999"
   ]
  },
  {
   "cell_type": "markdown",
   "id": "613081b3-ba0e-493a-a59a-da3ba1ef5af0",
   "metadata": {},
   "source": [
    "#### Tuple"
   ]
  },
  {
   "cell_type": "code",
   "execution_count": 31,
   "id": "a9bdc230-7a9a-49f5-90e1-d31998f559f6",
   "metadata": {},
   "outputs": [],
   "source": [
    "poverty_idx = (2000, 2001, 2002, 2003.4, \"year 2004\")"
   ]
  },
  {
   "cell_type": "markdown",
   "id": "ae7edf0d-f443-4cce-accf-844625824895",
   "metadata": {},
   "source": [
    "#### Disctionary"
   ]
  },
  {
   "cell_type": "code",
   "execution_count": 36,
   "id": "f5c6ec15-00c5-448a-8e9f-aeac815ae2b3",
   "metadata": {},
   "outputs": [],
   "source": [
    "dict_var = {\n",
    "    'poverty_idx': [2000, 2001, 2002, 2003.4, \"year 2004\"],\n",
    "    'poverty_val': [50, 20]\n",
    "}"
   ]
  },
  {
   "cell_type": "code",
   "execution_count": 37,
   "id": "4490a958-1dc2-4dfa-b19d-8c7dd515fd53",
   "metadata": {},
   "outputs": [
    {
     "name": "stdout",
     "output_type": "stream",
     "text": [
      "{'poverty_idx': [2000, 2001, 2002, 2003.4, 'year 2004'], 'poverty_val': [50, 20]}\n"
     ]
    }
   ],
   "source": [
    "print(dict_var)"
   ]
  },
  {
   "cell_type": "code",
   "execution_count": 39,
   "id": "2625a3f1-29e3-439b-ab43-0d04b0e64a85",
   "metadata": {},
   "outputs": [
    {
     "name": "stdout",
     "output_type": "stream",
     "text": [
      "2000\n"
     ]
    }
   ],
   "source": [
    "print(dict_var['poverty_idx'][0])"
   ]
  },
  {
   "cell_type": "markdown",
   "id": "20376526-d2ea-4b0e-8d74-0151b3419a4c",
   "metadata": {},
   "source": [
    "**3. Python Boolean**"
   ]
  },
  {
   "cell_type": "code",
   "execution_count": 44,
   "id": "f4abc3ec-f9c4-4052-9f53-f9219c2bb5d9",
   "metadata": {},
   "outputs": [
    {
     "name": "stdout",
     "output_type": "stream",
     "text": [
      "False\n"
     ]
    }
   ],
   "source": [
    "val_ = int(10)\n",
    "print(val_ == 11)"
   ]
  },
  {
   "cell_type": "markdown",
   "id": "025eba76-f616-4bac-b8e5-8de788763620",
   "metadata": {},
   "source": [
    "**4. Python Operators**"
   ]
  },
  {
   "cell_type": "code",
   "execution_count": 7,
   "id": "7e3683e5-cc0e-44e5-9109-2ec20d6a792d",
   "metadata": {},
   "outputs": [
    {
     "data": {
      "text/plain": [
       "2"
      ]
     },
     "execution_count": 7,
     "metadata": {},
     "output_type": "execute_result"
    }
   ],
   "source": [
    "a = 12\n",
    "b = 10\n",
    "c = a % b\n",
    "c"
   ]
  },
  {
   "cell_type": "markdown",
   "id": "baf5a0a3-0d52-4a8b-a591-3feecab2ae4c",
   "metadata": {},
   "source": [
    "### ***** END OF FILE ***********************************"
   ]
  }
 ],
 "metadata": {
  "kernelspec": {
   "display_name": "Python 3 (ipykernel)",
   "language": "python",
   "name": "python3"
  },
  "language_info": {
   "codemirror_mode": {
    "name": "ipython",
    "version": 3
   },
   "file_extension": ".py",
   "mimetype": "text/x-python",
   "name": "python",
   "nbconvert_exporter": "python",
   "pygments_lexer": "ipython3",
   "version": "3.10.9"
  }
 },
 "nbformat": 4,
 "nbformat_minor": 5
}
