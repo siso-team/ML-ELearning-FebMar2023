{
 "cells": [
  {
   "cell_type": "markdown",
   "id": "878635b3-ed73-4354-b41b-c311151364a1",
   "metadata": {},
   "source": [
    "# OpenCV Basics"
   ]
  },
  {
   "cell_type": "code",
   "execution_count": 1,
   "id": "897c6188-e136-4838-bb82-4553a5f9c003",
   "metadata": {},
   "outputs": [],
   "source": [
    "# Importing packages\n",
    "import numpy as np\n",
    "import cv2"
   ]
  },
  {
   "cell_type": "markdown",
   "id": "99bac728-8614-4fd1-9756-7b1aa4135829",
   "metadata": {},
   "source": [
    "# Read, Show and Write Images"
   ]
  },
  {
   "cell_type": "code",
   "execution_count": 3,
   "id": "520fd574-e187-4489-aa54-fd5ba8480c24",
   "metadata": {},
   "outputs": [],
   "source": [
    "img = cv2.imread('House_n_Nature.jpg')"
   ]
  },
  {
   "cell_type": "code",
   "execution_count": 4,
   "id": "4b7f23ec-85b6-43c9-890a-71707f8fb097",
   "metadata": {},
   "outputs": [
    {
     "name": "stdout",
     "output_type": "stream",
     "text": [
      "[[[196  87   1]\n",
      "  [196  87   2]\n",
      "  [196  87   2]\n",
      "  ...\n",
      "  [197 118  61]\n",
      "  [190 111  54]\n",
      "  [174 104  45]]\n",
      "\n",
      " [[196  87   1]\n",
      "  [196  87   2]\n",
      "  [196  87   2]\n",
      "  ...\n",
      "  [187 109  50]\n",
      "  [179 101  42]\n",
      "  [172  99  41]]\n",
      "\n",
      " [[196  87   1]\n",
      "  [196  87   2]\n",
      "  [197  88   3]\n",
      "  ...\n",
      "  [177 102  40]\n",
      "  [180 105  43]\n",
      "  [179 106  48]]\n",
      "\n",
      " ...\n",
      "\n",
      " [[185 105  40]\n",
      "  [185 107  41]\n",
      "  [186 108  42]\n",
      "  ...\n",
      "  [ 22 187 136]\n",
      "  [ 31 185 136]\n",
      "  [ 13 153 106]]\n",
      "\n",
      " [[187 109  43]\n",
      "  [188 110  44]\n",
      "  [189 111  45]\n",
      "  ...\n",
      "  [ 20 183 132]\n",
      "  [ 38 191 140]\n",
      "  [ 19 160 111]]\n",
      "\n",
      " [[189 111  45]\n",
      "  [190 112  46]\n",
      "  [192 114  48]\n",
      "  ...\n",
      "  [ 21 181 129]\n",
      "  [ 39 190 140]\n",
      "  [ 20 158 110]]]\n"
     ]
    }
   ],
   "source": []
  },
  {
   "cell_type": "code",
   "execution_count": null,
   "id": "677dc1b7-37aa-4c5b-9080-08a7fb149c5d",
   "metadata": {},
   "outputs": [],
   "source": []
  },
  {
   "cell_type": "code",
   "execution_count": null,
   "id": "30410194-53d7-4934-b710-76d790da95d8",
   "metadata": {},
   "outputs": [],
   "source": []
  },
  {
   "cell_type": "code",
   "execution_count": null,
   "id": "03bf7928-cc3f-4df0-a890-d212b7bff06c",
   "metadata": {},
   "outputs": [],
   "source": []
  },
  {
   "cell_type": "code",
   "execution_count": null,
   "id": "55b6f010-2afb-4c76-97ed-fda96e0f12c2",
   "metadata": {},
   "outputs": [],
   "source": []
  },
  {
   "cell_type": "markdown",
   "id": "c0551c1a-230b-4227-8119-c5b029e64bed",
   "metadata": {},
   "source": [
    "### ***** END OF FILE ***********************************"
   ]
  }
 ],
 "metadata": {
  "kernelspec": {
   "display_name": "Python 3 (ipykernel)",
   "language": "python",
   "name": "python3"
  },
  "language_info": {
   "codemirror_mode": {
    "name": "ipython",
    "version": 3
   },
   "file_extension": ".py",
   "mimetype": "text/x-python",
   "name": "python",
   "nbconvert_exporter": "python",
   "pygments_lexer": "ipython3",
   "version": "3.10.9"
  }
 },
 "nbformat": 4,
 "nbformat_minor": 5
}
