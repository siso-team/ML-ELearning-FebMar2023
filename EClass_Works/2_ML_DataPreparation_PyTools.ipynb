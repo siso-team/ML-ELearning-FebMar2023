{
 "cells": [
  {
   "cell_type": "markdown",
   "id": "a73127be-0ab4-4910-91ec-c2feb6791dab",
   "metadata": {},
   "source": [
    "# Data Preparation - Tools"
   ]
  },
  {
   "cell_type": "code",
   "execution_count": 1,
   "id": "c01afa75-3356-481f-8044-e230aed43917",
   "metadata": {},
   "outputs": [],
   "source": [
    "# Importing tools/packages\n",
    "import numpy as np\n",
    "import pandas as pd\n",
    "from scipy import stats\n",
    "import matplotlib.pyplot as plt"
   ]
  },
  {
   "cell_type": "markdown",
   "id": "53a8c606-2d8a-4781-9ed1-ea0d7f20fb02",
   "metadata": {},
   "source": [
    "**1. Numpy**"
   ]
  },
  {
   "cell_type": "markdown",
   "id": "a76708a3-8b8d-423e-b855-15e84ac086ad",
   "metadata": {},
   "source": [
    "#### **Data Types**"
   ]
  },
  {
   "cell_type": "code",
   "execution_count": 8,
   "id": "5e8de460-50b0-4b23-80ba-67767f4520db",
   "metadata": {},
   "outputs": [
    {
     "name": "stdout",
     "output_type": "stream",
     "text": [
      "<U5\n"
     ]
    }
   ],
   "source": [
    "#arr = np.array([1, 2])\n",
    "#print(arr.dtype)\n",
    "#print(type(arr))\n",
    "arr = np.array(['apple', 'ball', 'cat'])\n",
    "print(arr.dtype)"
   ]
  },
  {
   "cell_type": "code",
   "execution_count": 10,
   "id": "3750cc24-977d-41ab-8633-ae37be395091",
   "metadata": {},
   "outputs": [
    {
     "name": "stdout",
     "output_type": "stream",
     "text": [
      "|S1\n"
     ]
    }
   ],
   "source": [
    "arr = np.array([1, 2, 3, 4], dtype='S')\n",
    "print(arr.dtype)"
   ]
  },
  {
   "cell_type": "code",
   "execution_count": 11,
   "id": "07eceb30-bc7b-4973-8066-ed1881838619",
   "metadata": {},
   "outputs": [
    {
     "ename": "ValueError",
     "evalue": "invalid literal for int() with base 10: 'a'",
     "output_type": "error",
     "traceback": [
      "\u001b[1;31m---------------------------------------------------------------------------\u001b[0m",
      "\u001b[1;31mValueError\u001b[0m                                Traceback (most recent call last)",
      "Cell \u001b[1;32mIn[11], line 1\u001b[0m\n\u001b[1;32m----> 1\u001b[0m arr \u001b[38;5;241m=\u001b[39m \u001b[43mnp\u001b[49m\u001b[38;5;241;43m.\u001b[39;49m\u001b[43marray\u001b[49m\u001b[43m(\u001b[49m\u001b[43m[\u001b[49m\u001b[38;5;124;43m'\u001b[39;49m\u001b[38;5;124;43ma\u001b[39;49m\u001b[38;5;124;43m'\u001b[39;49m\u001b[43m,\u001b[49m\u001b[43m \u001b[49m\u001b[38;5;124;43m'\u001b[39;49m\u001b[38;5;124;43m2\u001b[39;49m\u001b[38;5;124;43m'\u001b[39;49m\u001b[43m,\u001b[49m\u001b[43m \u001b[49m\u001b[38;5;124;43m'\u001b[39;49m\u001b[38;5;124;43m3\u001b[39;49m\u001b[38;5;124;43m'\u001b[39;49m\u001b[43m]\u001b[49m\u001b[43m,\u001b[49m\u001b[43m \u001b[49m\u001b[43mdtype\u001b[49m\u001b[38;5;241;43m=\u001b[39;49m\u001b[38;5;124;43m'\u001b[39;49m\u001b[38;5;124;43mi\u001b[39;49m\u001b[38;5;124;43m'\u001b[39;49m\u001b[43m)\u001b[49m\n\u001b[0;32m      2\u001b[0m \u001b[38;5;28mprint\u001b[39m(arr\u001b[38;5;241m.\u001b[39mdtype)\n",
      "\u001b[1;31mValueError\u001b[0m: invalid literal for int() with base 10: 'a'"
     ]
    }
   ],
   "source": [
    "arr = np.array(['a', '2', '3'], dtype='i')\n",
    "print(arr.dtype)"
   ]
  },
  {
   "cell_type": "markdown",
   "id": "38cc9b9b-c23e-4963-bb35-91f2f5f3ad81",
   "metadata": {},
   "source": [
    "#### **Creating Arrays**"
   ]
  },
  {
   "cell_type": "code",
   "execution_count": 13,
   "id": "46f79692-a807-4bc9-9069-9cf1e1176054",
   "metadata": {},
   "outputs": [],
   "source": [
    "a = np.array([1, 2, 3])\n",
    "b = np.array([(1.5, 2, 2), (3, 3, 4)], dtype=float)"
   ]
  },
  {
   "cell_type": "code",
   "execution_count": 21,
   "id": "54145b4d-201c-444c-9331-b9a262411163",
   "metadata": {},
   "outputs": [
    {
     "data": {
      "text/plain": [
       "array([[1.5, 2. , 2. ],\n",
       "       [3. , 3. , 4. ]])"
      ]
     },
     "execution_count": 21,
     "metadata": {},
     "output_type": "execute_result"
    }
   ],
   "source": [
    "type(b[0][0])\n",
    "b.shape\n",
    "b"
   ]
  },
  {
   "cell_type": "code",
   "execution_count": 28,
   "id": "e96cd72a-8e83-4b12-899c-a690e7bfc256",
   "metadata": {},
   "outputs": [],
   "source": [
    "a = np.zeros((3, 4))\n",
    "b = np.ones((3, 4), dtype=np.int16)\n",
    "c = np.arange(10, 20, 1)\n",
    "d = np.linspace(0, 2, 100)"
   ]
  },
  {
   "cell_type": "code",
   "execution_count": 29,
   "id": "0d570141-5e2f-4e34-be14-6a9411509f4a",
   "metadata": {},
   "outputs": [
    {
     "data": {
      "text/plain": [
       "array([0.        , 0.02020202, 0.04040404, 0.06060606, 0.08080808,\n",
       "       0.1010101 , 0.12121212, 0.14141414, 0.16161616, 0.18181818,\n",
       "       0.2020202 , 0.22222222, 0.24242424, 0.26262626, 0.28282828,\n",
       "       0.3030303 , 0.32323232, 0.34343434, 0.36363636, 0.38383838,\n",
       "       0.4040404 , 0.42424242, 0.44444444, 0.46464646, 0.48484848,\n",
       "       0.50505051, 0.52525253, 0.54545455, 0.56565657, 0.58585859,\n",
       "       0.60606061, 0.62626263, 0.64646465, 0.66666667, 0.68686869,\n",
       "       0.70707071, 0.72727273, 0.74747475, 0.76767677, 0.78787879,\n",
       "       0.80808081, 0.82828283, 0.84848485, 0.86868687, 0.88888889,\n",
       "       0.90909091, 0.92929293, 0.94949495, 0.96969697, 0.98989899,\n",
       "       1.01010101, 1.03030303, 1.05050505, 1.07070707, 1.09090909,\n",
       "       1.11111111, 1.13131313, 1.15151515, 1.17171717, 1.19191919,\n",
       "       1.21212121, 1.23232323, 1.25252525, 1.27272727, 1.29292929,\n",
       "       1.31313131, 1.33333333, 1.35353535, 1.37373737, 1.39393939,\n",
       "       1.41414141, 1.43434343, 1.45454545, 1.47474747, 1.49494949,\n",
       "       1.51515152, 1.53535354, 1.55555556, 1.57575758, 1.5959596 ,\n",
       "       1.61616162, 1.63636364, 1.65656566, 1.67676768, 1.6969697 ,\n",
       "       1.71717172, 1.73737374, 1.75757576, 1.77777778, 1.7979798 ,\n",
       "       1.81818182, 1.83838384, 1.85858586, 1.87878788, 1.8989899 ,\n",
       "       1.91919192, 1.93939394, 1.95959596, 1.97979798, 2.        ])"
      ]
     },
     "execution_count": 29,
     "metadata": {},
     "output_type": "execute_result"
    }
   ],
   "source": [
    "d"
   ]
  },
  {
   "cell_type": "markdown",
   "id": "37d9fdd9-7772-4d9b-a662-ffc3a241461b",
   "metadata": {},
   "source": [
    "#### **Inspecting Array**"
   ]
  },
  {
   "cell_type": "code",
   "execution_count": 36,
   "id": "72215bed-77de-45a0-9328-bd047f2193fd",
   "metadata": {},
   "outputs": [
    {
     "data": {
      "text/plain": [
       "array([10, 11, 12, 13, 14, 15, 16, 17, 18, 19], dtype=int64)"
      ]
     },
     "execution_count": 36,
     "metadata": {},
     "output_type": "execute_result"
    }
   ],
   "source": [
    "c.shape\n",
    "len(a)\n",
    "c.ndim\n",
    "c.size\n",
    "c.dtype\n",
    "c.dtype.name\n",
    "c.astype(np.int64)"
   ]
  },
  {
   "cell_type": "markdown",
   "id": "467534ba-4abf-4738-a199-3910cbe62f9c",
   "metadata": {},
   "source": [
    "#### **Array Mathematics**"
   ]
  },
  {
   "cell_type": "code",
   "execution_count": 39,
   "id": "06a41999-6df3-43d8-9d79-fac03e9942bd",
   "metadata": {},
   "outputs": [],
   "source": [
    "a = np.array([1, 2, 3], dtype=float)\n",
    "b = np.array([0, 1, 2], dtype=float)"
   ]
  },
  {
   "cell_type": "code",
   "execution_count": 40,
   "id": "d55381cc-27d9-4b9e-ba23-e88ca5b5eedb",
   "metadata": {},
   "outputs": [
    {
     "name": "stdout",
     "output_type": "stream",
     "text": [
      "[1. 3. 5.]\n"
     ]
    }
   ],
   "source": [
    "print(a + b)"
   ]
  },
  {
   "cell_type": "code",
   "execution_count": 41,
   "id": "257d7077-424e-4ad3-9031-ff903eafe279",
   "metadata": {},
   "outputs": [
    {
     "name": "stdout",
     "output_type": "stream",
     "text": [
      "[1. 3. 5.]\n"
     ]
    }
   ],
   "source": [
    "print(np.add(a, b))"
   ]
  },
  {
   "cell_type": "code",
   "execution_count": 46,
   "id": "e54673bf-2d58-49cd-9bf0-d02cdfe261bd",
   "metadata": {},
   "outputs": [
    {
     "data": {
      "text/plain": [
       "array([0.        , 0.84147098, 0.90929743, 0.14112001])"
      ]
     },
     "execution_count": 46,
     "metadata": {},
     "output_type": "execute_result"
    }
   ],
   "source": [
    "np.exp(1)\n",
    "np.sqrt(81)\n",
    "np.sin([0, 1, 2, 3])"
   ]
  },
  {
   "cell_type": "markdown",
   "id": "3bbe8062-b56f-498e-9d1b-2716a45a600c",
   "metadata": {},
   "source": [
    "#### **Subsetting, Slicing, Indexing**"
   ]
  },
  {
   "cell_type": "code",
   "execution_count": 47,
   "id": "dd4ec36e-08b4-41e0-b670-6274821d7ad6",
   "metadata": {},
   "outputs": [],
   "source": [
    "val = np.linspace(0, 2, 100)"
   ]
  },
  {
   "cell_type": "code",
   "execution_count": 50,
   "id": "cda1699f-93aa-46f8-a486-813378544999",
   "metadata": {},
   "outputs": [
    {
     "data": {
      "text/plain": [
       "2.0"
      ]
     },
     "execution_count": 50,
     "metadata": {},
     "output_type": "execute_result"
    }
   ],
   "source": [
    "val[0]\n",
    "val[99]"
   ]
  },
  {
   "cell_type": "code",
   "execution_count": 52,
   "id": "e2a5721a-6cc2-4b2c-880f-d999245c385a",
   "metadata": {},
   "outputs": [
    {
     "data": {
      "text/plain": [
       "array([0.        , 0.02020202, 0.04040404, 0.06060606, 0.08080808,\n",
       "       0.1010101 , 0.12121212, 0.14141414, 0.16161616, 0.18181818])"
      ]
     },
     "execution_count": 52,
     "metadata": {},
     "output_type": "execute_result"
    }
   ],
   "source": [
    "val[0:10]"
   ]
  },
  {
   "cell_type": "code",
   "execution_count": 53,
   "id": "d57066d7-8da9-42ad-b59e-1f2e5048eeab",
   "metadata": {},
   "outputs": [
    {
     "data": {
      "text/plain": [
       "array([0.        , 0.02020202, 0.04040404, 0.06060606, 0.08080808,\n",
       "       0.1010101 , 0.12121212, 0.14141414, 0.16161616, 0.18181818])"
      ]
     },
     "execution_count": 53,
     "metadata": {},
     "output_type": "execute_result"
    }
   ],
   "source": [
    "val[val<0.2]"
   ]
  },
  {
   "cell_type": "markdown",
   "id": "1a04f51e-ee73-4638-92f4-9f5dcaffaa1c",
   "metadata": {},
   "source": [
    "#### **Array Manipulations**"
   ]
  },
  {
   "cell_type": "code",
   "execution_count": 57,
   "id": "292621ae-c6b2-4b70-ade4-6bca7597337b",
   "metadata": {},
   "outputs": [
    {
     "data": {
      "text/plain": [
       "array([[ 0,  1,  2,  3],\n",
       "       [ 4,  5,  6,  7],\n",
       "       [ 8,  9, 10, 11]])"
      ]
     },
     "execution_count": 57,
     "metadata": {},
     "output_type": "execute_result"
    }
   ],
   "source": [
    "a = np.arange(12).reshape(3,4)\n",
    "a"
   ]
  },
  {
   "cell_type": "code",
   "execution_count": 58,
   "id": "320ad448-3ab6-4eaf-b515-25d01657814b",
   "metadata": {},
   "outputs": [
    {
     "data": {
      "text/plain": [
       "array([[ 0,  4,  8],\n",
       "       [ 1,  5,  9],\n",
       "       [ 2,  6, 10],\n",
       "       [ 3,  7, 11]])"
      ]
     },
     "execution_count": 58,
     "metadata": {},
     "output_type": "execute_result"
    }
   ],
   "source": [
    "np.transpose(a)"
   ]
  },
  {
   "cell_type": "markdown",
   "id": "e5147f1f-a6d0-4208-8eba-c4295ac9903d",
   "metadata": {},
   "source": [
    "**2. Pandas**"
   ]
  },
  {
   "cell_type": "markdown",
   "id": "fa99e11c-b8c6-49d1-a8e1-9c0b2ab77217",
   "metadata": {},
   "source": [
    "*DataFrame*  \n",
    "*Series*"
   ]
  },
  {
   "cell_type": "code",
   "execution_count": 60,
   "id": "b6708a68-736a-4b85-9a1a-782b174f2de1",
   "metadata": {},
   "outputs": [],
   "source": [
    "data = [10,20,30,40,50,60]\n",
    "df = pd.DataFrame(data, columns=['Numbers'])"
   ]
  },
  {
   "cell_type": "code",
   "execution_count": 61,
   "id": "0752da08-09ae-4b49-8312-df4643a0fa08",
   "metadata": {},
   "outputs": [
    {
     "data": {
      "text/html": [
       "<div>\n",
       "<style scoped>\n",
       "    .dataframe tbody tr th:only-of-type {\n",
       "        vertical-align: middle;\n",
       "    }\n",
       "\n",
       "    .dataframe tbody tr th {\n",
       "        vertical-align: top;\n",
       "    }\n",
       "\n",
       "    .dataframe thead th {\n",
       "        text-align: right;\n",
       "    }\n",
       "</style>\n",
       "<table border=\"1\" class=\"dataframe\">\n",
       "  <thead>\n",
       "    <tr style=\"text-align: right;\">\n",
       "      <th></th>\n",
       "      <th>Numbers</th>\n",
       "    </tr>\n",
       "  </thead>\n",
       "  <tbody>\n",
       "    <tr>\n",
       "      <th>0</th>\n",
       "      <td>10</td>\n",
       "    </tr>\n",
       "    <tr>\n",
       "      <th>1</th>\n",
       "      <td>20</td>\n",
       "    </tr>\n",
       "    <tr>\n",
       "      <th>2</th>\n",
       "      <td>30</td>\n",
       "    </tr>\n",
       "    <tr>\n",
       "      <th>3</th>\n",
       "      <td>40</td>\n",
       "    </tr>\n",
       "    <tr>\n",
       "      <th>4</th>\n",
       "      <td>50</td>\n",
       "    </tr>\n",
       "    <tr>\n",
       "      <th>5</th>\n",
       "      <td>60</td>\n",
       "    </tr>\n",
       "  </tbody>\n",
       "</table>\n",
       "</div>"
      ],
      "text/plain": [
       "   Numbers\n",
       "0       10\n",
       "1       20\n",
       "2       30\n",
       "3       40\n",
       "4       50\n",
       "5       60"
      ]
     },
     "execution_count": 61,
     "metadata": {},
     "output_type": "execute_result"
    }
   ],
   "source": [
    "df"
   ]
  },
  {
   "cell_type": "markdown",
   "id": "a13bc098-212b-4bd5-9cd6-f652824ae955",
   "metadata": {},
   "source": [
    "#### **Reshaping Data**"
   ]
  },
  {
   "cell_type": "code",
   "execution_count": 63,
   "id": "72ab7bc9-e877-4323-8479-3f6befaae9ab",
   "metadata": {},
   "outputs": [
    {
     "data": {
      "text/html": [
       "<div>\n",
       "<style scoped>\n",
       "    .dataframe tbody tr th:only-of-type {\n",
       "        vertical-align: middle;\n",
       "    }\n",
       "\n",
       "    .dataframe tbody tr th {\n",
       "        vertical-align: top;\n",
       "    }\n",
       "\n",
       "    .dataframe thead th {\n",
       "        text-align: right;\n",
       "    }\n",
       "</style>\n",
       "<table border=\"1\" class=\"dataframe\">\n",
       "  <thead>\n",
       "    <tr style=\"text-align: right;\">\n",
       "      <th>Date</th>\n",
       "      <th>Feb-20</th>\n",
       "      <th>Jan-20</th>\n",
       "      <th>Mar-20</th>\n",
       "    </tr>\n",
       "    <tr>\n",
       "      <th>Name</th>\n",
       "      <th></th>\n",
       "      <th></th>\n",
       "      <th></th>\n",
       "    </tr>\n",
       "  </thead>\n",
       "  <tbody>\n",
       "    <tr>\n",
       "      <th>Jane</th>\n",
       "      <td>250</td>\n",
       "      <td>200</td>\n",
       "      <td>350</td>\n",
       "    </tr>\n",
       "    <tr>\n",
       "      <th>John</th>\n",
       "      <td>150</td>\n",
       "      <td>100</td>\n",
       "      <td>300</td>\n",
       "    </tr>\n",
       "  </tbody>\n",
       "</table>\n",
       "</div>"
      ],
      "text/plain": [
       "Date  Feb-20  Jan-20  Mar-20\n",
       "Name                        \n",
       "Jane     250     200     350\n",
       "John     150     100     300"
      ]
     },
     "execution_count": 63,
     "metadata": {},
     "output_type": "execute_result"
    }
   ],
   "source": [
    "# Pivot\n",
    "df = pd.DataFrame({\n",
    "    'Name': ['John', 'Jane', 'John', 'Jane', 'John', 'Jane'],\n",
    "    'Date': ['Jan-20', 'Jan-20', 'Feb-20', 'Feb-20', 'Mar-20', 'Mar-20'],\n",
    "    'Sales': [100, 200, 150, 250, 300, 350]\n",
    "})\n",
    "\n",
    "pivot_df = df.pivot(index='Name', columns='Date', values='Sales')\n",
    "pivot_df"
   ]
  },
  {
   "cell_type": "code",
   "execution_count": 64,
   "id": "f8b04f3d-dadc-4372-91e6-c3bfc25ff94c",
   "metadata": {},
   "outputs": [],
   "source": [
    "# Stack\n",
    "df = pd.DataFrame({\n",
    "    'A': [1, 2, 3],\n",
    "    'B': [0.1, 0.3, 0.5],\n",
    "    'C': [0.2, 0.4, 0.6]\n",
    "})\n",
    "\n",
    "stacked_df = df.stack()"
   ]
  },
  {
   "cell_type": "code",
   "execution_count": 66,
   "id": "5f76aec9-c660-4ad1-b6a1-e6c68141da9d",
   "metadata": {},
   "outputs": [
    {
     "data": {
      "text/html": [
       "<div>\n",
       "<style scoped>\n",
       "    .dataframe tbody tr th:only-of-type {\n",
       "        vertical-align: middle;\n",
       "    }\n",
       "\n",
       "    .dataframe tbody tr th {\n",
       "        vertical-align: top;\n",
       "    }\n",
       "\n",
       "    .dataframe thead th {\n",
       "        text-align: right;\n",
       "    }\n",
       "</style>\n",
       "<table border=\"1\" class=\"dataframe\">\n",
       "  <thead>\n",
       "    <tr style=\"text-align: right;\">\n",
       "      <th></th>\n",
       "      <th>A</th>\n",
       "      <th>B</th>\n",
       "      <th>C</th>\n",
       "    </tr>\n",
       "  </thead>\n",
       "  <tbody>\n",
       "    <tr>\n",
       "      <th>0</th>\n",
       "      <td>1.0</td>\n",
       "      <td>0.1</td>\n",
       "      <td>0.2</td>\n",
       "    </tr>\n",
       "    <tr>\n",
       "      <th>1</th>\n",
       "      <td>2.0</td>\n",
       "      <td>0.3</td>\n",
       "      <td>0.4</td>\n",
       "    </tr>\n",
       "    <tr>\n",
       "      <th>2</th>\n",
       "      <td>3.0</td>\n",
       "      <td>0.5</td>\n",
       "      <td>0.6</td>\n",
       "    </tr>\n",
       "  </tbody>\n",
       "</table>\n",
       "</div>"
      ],
      "text/plain": [
       "     A    B    C\n",
       "0  1.0  0.1  0.2\n",
       "1  2.0  0.3  0.4\n",
       "2  3.0  0.5  0.6"
      ]
     },
     "execution_count": 66,
     "metadata": {},
     "output_type": "execute_result"
    }
   ],
   "source": [
    "unstacked_df = stacked_df.unstack()\n",
    "unstacked_df"
   ]
  },
  {
   "cell_type": "code",
   "execution_count": 67,
   "id": "12f4c9fa-8e93-43e2-982d-708072091170",
   "metadata": {},
   "outputs": [
    {
     "data": {
      "text/html": [
       "<div>\n",
       "<style scoped>\n",
       "    .dataframe tbody tr th:only-of-type {\n",
       "        vertical-align: middle;\n",
       "    }\n",
       "\n",
       "    .dataframe tbody tr th {\n",
       "        vertical-align: top;\n",
       "    }\n",
       "\n",
       "    .dataframe thead th {\n",
       "        text-align: right;\n",
       "    }\n",
       "</style>\n",
       "<table border=\"1\" class=\"dataframe\">\n",
       "  <thead>\n",
       "    <tr style=\"text-align: right;\">\n",
       "      <th></th>\n",
       "      <th>id</th>\n",
       "      <th>variable</th>\n",
       "      <th>value</th>\n",
       "    </tr>\n",
       "  </thead>\n",
       "  <tbody>\n",
       "    <tr>\n",
       "      <th>0</th>\n",
       "      <td>1</td>\n",
       "      <td>var1</td>\n",
       "      <td>2</td>\n",
       "    </tr>\n",
       "    <tr>\n",
       "      <th>1</th>\n",
       "      <td>2</td>\n",
       "      <td>var1</td>\n",
       "      <td>3</td>\n",
       "    </tr>\n",
       "    <tr>\n",
       "      <th>2</th>\n",
       "      <td>1</td>\n",
       "      <td>var2</td>\n",
       "      <td>4</td>\n",
       "    </tr>\n",
       "    <tr>\n",
       "      <th>3</th>\n",
       "      <td>2</td>\n",
       "      <td>var2</td>\n",
       "      <td>5</td>\n",
       "    </tr>\n",
       "    <tr>\n",
       "      <th>4</th>\n",
       "      <td>1</td>\n",
       "      <td>var3</td>\n",
       "      <td>6</td>\n",
       "    </tr>\n",
       "    <tr>\n",
       "      <th>5</th>\n",
       "      <td>2</td>\n",
       "      <td>var3</td>\n",
       "      <td>7</td>\n",
       "    </tr>\n",
       "  </tbody>\n",
       "</table>\n",
       "</div>"
      ],
      "text/plain": [
       "   id variable  value\n",
       "0   1     var1      2\n",
       "1   2     var1      3\n",
       "2   1     var2      4\n",
       "3   2     var2      5\n",
       "4   1     var3      6\n",
       "5   2     var3      7"
      ]
     },
     "execution_count": 67,
     "metadata": {},
     "output_type": "execute_result"
    }
   ],
   "source": [
    "# Melt -> Gather columns into rows\n",
    "df = pd.DataFrame({\n",
    "    'id': [1, 2],\n",
    "    'var1': [2, 3],\n",
    "    'var2': [4, 5],\n",
    "    'var3': [6, 7]\n",
    "})\n",
    "\n",
    "melted_df = df.melt(id_vars=['id'], value_vars=['var1', 'var2', 'var3'], var_name='variable', value_name='value')\n",
    "melted_df"
   ]
  },
  {
   "cell_type": "markdown",
   "id": "e35872db-608b-481d-b875-b2457c4fad20",
   "metadata": {},
   "source": [
    "#### **Iterations**"
   ]
  },
  {
   "cell_type": "code",
   "execution_count": 69,
   "id": "02886ade-d91c-42ba-b830-dcd53875068b",
   "metadata": {},
   "outputs": [
    {
     "name": "stdout",
     "output_type": "stream",
     "text": [
      "(0, id             1\n",
      "variable    var1\n",
      "value          2\n",
      "Name: 0, dtype: object)\n",
      "(1, id             2\n",
      "variable    var1\n",
      "value          3\n",
      "Name: 1, dtype: object)\n",
      "(2, id             1\n",
      "variable    var2\n",
      "value          4\n",
      "Name: 2, dtype: object)\n",
      "(3, id             2\n",
      "variable    var2\n",
      "value          5\n",
      "Name: 3, dtype: object)\n",
      "(4, id             1\n",
      "variable    var3\n",
      "value          6\n",
      "Name: 4, dtype: object)\n",
      "(5, id             2\n",
      "variable    var3\n",
      "value          7\n",
      "Name: 5, dtype: object)\n"
     ]
    }
   ],
   "source": [
    "#melted_df.iteritems()\n",
    "for x in melted_df.iterrows():\n",
    "    print(x)"
   ]
  },
  {
   "cell_type": "markdown",
   "id": "8ca98666-979b-47b1-838a-369c352649e4",
   "metadata": {},
   "source": [
    "#### **Advanced Indexing**"
   ]
  },
  {
   "cell_type": "code",
   "execution_count": 70,
   "id": "8fdff614-830b-4c1e-84b4-f8f85cf60fb2",
   "metadata": {},
   "outputs": [
    {
     "data": {
      "text/html": [
       "<div>\n",
       "<style scoped>\n",
       "    .dataframe tbody tr th:only-of-type {\n",
       "        vertical-align: middle;\n",
       "    }\n",
       "\n",
       "    .dataframe tbody tr th {\n",
       "        vertical-align: top;\n",
       "    }\n",
       "\n",
       "    .dataframe thead th {\n",
       "        text-align: right;\n",
       "    }\n",
       "</style>\n",
       "<table border=\"1\" class=\"dataframe\">\n",
       "  <thead>\n",
       "    <tr style=\"text-align: right;\">\n",
       "      <th></th>\n",
       "      <th>id</th>\n",
       "      <th>variable</th>\n",
       "      <th>value</th>\n",
       "    </tr>\n",
       "  </thead>\n",
       "  <tbody>\n",
       "    <tr>\n",
       "      <th>0</th>\n",
       "      <td>1</td>\n",
       "      <td>var1</td>\n",
       "      <td>2</td>\n",
       "    </tr>\n",
       "    <tr>\n",
       "      <th>1</th>\n",
       "      <td>2</td>\n",
       "      <td>var1</td>\n",
       "      <td>3</td>\n",
       "    </tr>\n",
       "    <tr>\n",
       "      <th>2</th>\n",
       "      <td>1</td>\n",
       "      <td>var2</td>\n",
       "      <td>4</td>\n",
       "    </tr>\n",
       "    <tr>\n",
       "      <th>3</th>\n",
       "      <td>2</td>\n",
       "      <td>var2</td>\n",
       "      <td>5</td>\n",
       "    </tr>\n",
       "    <tr>\n",
       "      <th>4</th>\n",
       "      <td>1</td>\n",
       "      <td>var3</td>\n",
       "      <td>6</td>\n",
       "    </tr>\n",
       "    <tr>\n",
       "      <th>5</th>\n",
       "      <td>2</td>\n",
       "      <td>var3</td>\n",
       "      <td>7</td>\n",
       "    </tr>\n",
       "  </tbody>\n",
       "</table>\n",
       "</div>"
      ],
      "text/plain": [
       "   id variable  value\n",
       "0   1     var1      2\n",
       "1   2     var1      3\n",
       "2   1     var2      4\n",
       "3   2     var2      5\n",
       "4   1     var3      6\n",
       "5   2     var3      7"
      ]
     },
     "execution_count": 70,
     "metadata": {},
     "output_type": "execute_result"
    }
   ],
   "source": [
    "melted_df"
   ]
  },
  {
   "cell_type": "code",
   "execution_count": 79,
   "id": "4a2de3ae-9299-4f2d-bdb6-c5f79b441f2c",
   "metadata": {},
   "outputs": [
    {
     "data": {
      "text/plain": [
       "1    3\n",
       "2    4\n",
       "Name: value, dtype: int64"
      ]
     },
     "execution_count": 79,
     "metadata": {},
     "output_type": "execute_result"
    }
   ],
   "source": [
    "melted_df.loc[1]\n",
    "melted_df.iloc[1:3, 2]"
   ]
  },
  {
   "cell_type": "markdown",
   "id": "3bba6d24-c49a-4bc4-b9e3-faec99f9628e",
   "metadata": {},
   "source": [
    "#### **Missing Data**"
   ]
  },
  {
   "cell_type": "code",
   "execution_count": 80,
   "id": "26784edb-78a7-4549-84f8-66e9aaad056f",
   "metadata": {},
   "outputs": [
    {
     "data": {
      "text/html": [
       "<div>\n",
       "<style scoped>\n",
       "    .dataframe tbody tr th:only-of-type {\n",
       "        vertical-align: middle;\n",
       "    }\n",
       "\n",
       "    .dataframe tbody tr th {\n",
       "        vertical-align: top;\n",
       "    }\n",
       "\n",
       "    .dataframe thead th {\n",
       "        text-align: right;\n",
       "    }\n",
       "</style>\n",
       "<table border=\"1\" class=\"dataframe\">\n",
       "  <thead>\n",
       "    <tr style=\"text-align: right;\">\n",
       "      <th></th>\n",
       "      <th>A</th>\n",
       "      <th>B</th>\n",
       "      <th>C</th>\n",
       "    </tr>\n",
       "  </thead>\n",
       "  <tbody>\n",
       "    <tr>\n",
       "      <th>0</th>\n",
       "      <td>1</td>\n",
       "      <td>0.1</td>\n",
       "      <td>0.2</td>\n",
       "    </tr>\n",
       "    <tr>\n",
       "      <th>1</th>\n",
       "      <td>2</td>\n",
       "      <td>0.0</td>\n",
       "      <td>0.4</td>\n",
       "    </tr>\n",
       "    <tr>\n",
       "      <th>2</th>\n",
       "      <td>3</td>\n",
       "      <td>0.5</td>\n",
       "      <td>0.0</td>\n",
       "    </tr>\n",
       "  </tbody>\n",
       "</table>\n",
       "</div>"
      ],
      "text/plain": [
       "   A    B    C\n",
       "0  1  0.1  0.2\n",
       "1  2  0.0  0.4\n",
       "2  3  0.5  0.0"
      ]
     },
     "execution_count": 80,
     "metadata": {},
     "output_type": "execute_result"
    }
   ],
   "source": [
    "df = pd.DataFrame({\n",
    "    'A': [1, 2, 3],\n",
    "    'B': [0.1, np.nan, 0.5],\n",
    "    'C': [0.2, 0.4, np.nan]\n",
    "})\n",
    "\n",
    "mask = df.isnull()\n",
    "filled_df = df.fillna(value=0)\n",
    "filled_df"
   ]
  },
  {
   "cell_type": "markdown",
   "id": "9aa0f669-4f8c-423e-9cfa-8d7d3f6c373c",
   "metadata": {},
   "source": [
    "#### **Combining Data**"
   ]
  },
  {
   "cell_type": "code",
   "execution_count": 81,
   "id": "67dfa6f2-eaca-4d32-82ce-d3acda8d9065",
   "metadata": {},
   "outputs": [
    {
     "data": {
      "text/html": [
       "<div>\n",
       "<style scoped>\n",
       "    .dataframe tbody tr th:only-of-type {\n",
       "        vertical-align: middle;\n",
       "    }\n",
       "\n",
       "    .dataframe tbody tr th {\n",
       "        vertical-align: top;\n",
       "    }\n",
       "\n",
       "    .dataframe thead th {\n",
       "        text-align: right;\n",
       "    }\n",
       "</style>\n",
       "<table border=\"1\" class=\"dataframe\">\n",
       "  <thead>\n",
       "    <tr style=\"text-align: right;\">\n",
       "      <th></th>\n",
       "      <th>id</th>\n",
       "      <th>name</th>\n",
       "      <th>age</th>\n",
       "    </tr>\n",
       "  </thead>\n",
       "  <tbody>\n",
       "    <tr>\n",
       "      <th>0</th>\n",
       "      <td>1</td>\n",
       "      <td>Bob</td>\n",
       "      <td>30</td>\n",
       "    </tr>\n",
       "    <tr>\n",
       "      <th>1</th>\n",
       "      <td>3</td>\n",
       "      <td>John</td>\n",
       "      <td>25</td>\n",
       "    </tr>\n",
       "  </tbody>\n",
       "</table>\n",
       "</div>"
      ],
      "text/plain": [
       "   id  name  age\n",
       "0   1   Bob   30\n",
       "1   3  John   25"
      ]
     },
     "execution_count": 81,
     "metadata": {},
     "output_type": "execute_result"
    }
   ],
   "source": [
    "df1 = pd.DataFrame({\n",
    "    'id': [1, 2, 3],\n",
    "    'name': ['Bob', 'Sue', 'John']\n",
    "})\n",
    "\n",
    "df2 = pd.DataFrame({\n",
    "    'id': [1, 3],\n",
    "    'age': [30, 25]\n",
    "})\n",
    "\n",
    "merged_df = pd.merge(df1, df2, on='id')\n",
    "merged_df"
   ]
  },
  {
   "cell_type": "code",
   "execution_count": 82,
   "id": "8dd4f439-5ead-46e0-8d89-45599718a494",
   "metadata": {},
   "outputs": [
    {
     "data": {
      "text/html": [
       "<div>\n",
       "<style scoped>\n",
       "    .dataframe tbody tr th:only-of-type {\n",
       "        vertical-align: middle;\n",
       "    }\n",
       "\n",
       "    .dataframe tbody tr th {\n",
       "        vertical-align: top;\n",
       "    }\n",
       "\n",
       "    .dataframe thead th {\n",
       "        text-align: right;\n",
       "    }\n",
       "</style>\n",
       "<table border=\"1\" class=\"dataframe\">\n",
       "  <thead>\n",
       "    <tr style=\"text-align: right;\">\n",
       "      <th></th>\n",
       "      <th>id</th>\n",
       "      <th>name</th>\n",
       "      <th>age</th>\n",
       "    </tr>\n",
       "  </thead>\n",
       "  <tbody>\n",
       "    <tr>\n",
       "      <th>0</th>\n",
       "      <td>1</td>\n",
       "      <td>Bob</td>\n",
       "      <td>30.0</td>\n",
       "    </tr>\n",
       "    <tr>\n",
       "      <th>1</th>\n",
       "      <td>2</td>\n",
       "      <td>Sue</td>\n",
       "      <td>NaN</td>\n",
       "    </tr>\n",
       "    <tr>\n",
       "      <th>2</th>\n",
       "      <td>3</td>\n",
       "      <td>John</td>\n",
       "      <td>25.0</td>\n",
       "    </tr>\n",
       "  </tbody>\n",
       "</table>\n",
       "</div>"
      ],
      "text/plain": [
       "   id  name   age\n",
       "0   1   Bob  30.0\n",
       "1   2   Sue   NaN\n",
       "2   3  John  25.0"
      ]
     },
     "execution_count": 82,
     "metadata": {},
     "output_type": "execute_result"
    }
   ],
   "source": [
    "merged_df = pd.merge(df1, df2, on='id', how='left')\n",
    "merged_df"
   ]
  },
  {
   "cell_type": "code",
   "execution_count": 85,
   "id": "16ed2b37-3763-4fab-914d-954320bd0cbd",
   "metadata": {},
   "outputs": [
    {
     "data": {
      "text/html": [
       "<div>\n",
       "<style scoped>\n",
       "    .dataframe tbody tr th:only-of-type {\n",
       "        vertical-align: middle;\n",
       "    }\n",
       "\n",
       "    .dataframe tbody tr th {\n",
       "        vertical-align: top;\n",
       "    }\n",
       "\n",
       "    .dataframe thead th {\n",
       "        text-align: right;\n",
       "    }\n",
       "</style>\n",
       "<table border=\"1\" class=\"dataframe\">\n",
       "  <thead>\n",
       "    <tr style=\"text-align: right;\">\n",
       "      <th></th>\n",
       "      <th>id</th>\n",
       "      <th>name</th>\n",
       "      <th>id</th>\n",
       "      <th>age</th>\n",
       "    </tr>\n",
       "  </thead>\n",
       "  <tbody>\n",
       "    <tr>\n",
       "      <th>0</th>\n",
       "      <td>1</td>\n",
       "      <td>Bob</td>\n",
       "      <td>1.0</td>\n",
       "      <td>30.0</td>\n",
       "    </tr>\n",
       "    <tr>\n",
       "      <th>1</th>\n",
       "      <td>2</td>\n",
       "      <td>Sue</td>\n",
       "      <td>3.0</td>\n",
       "      <td>25.0</td>\n",
       "    </tr>\n",
       "    <tr>\n",
       "      <th>2</th>\n",
       "      <td>3</td>\n",
       "      <td>John</td>\n",
       "      <td>NaN</td>\n",
       "      <td>NaN</td>\n",
       "    </tr>\n",
       "  </tbody>\n",
       "</table>\n",
       "</div>"
      ],
      "text/plain": [
       "   id  name   id   age\n",
       "0   1   Bob  1.0  30.0\n",
       "1   2   Sue  3.0  25.0\n",
       "2   3  John  NaN   NaN"
      ]
     },
     "execution_count": 85,
     "metadata": {},
     "output_type": "execute_result"
    }
   ],
   "source": [
    "df1 = pd.DataFrame({\n",
    "    'id': [1, 2, 3],\n",
    "    'name': ['Bob', 'Sue', 'John']\n",
    "})\n",
    "\n",
    "df2 = pd.DataFrame({\n",
    "    'id': [1, 3],\n",
    "    'age': [30, 25]\n",
    "})\n",
    "concatenated_df = pd.concat([df1, df2], axis=1)\n",
    "concatenated_df"
   ]
  },
  {
   "cell_type": "code",
   "execution_count": null,
   "id": "7afa8d64-b0a2-492c-a96f-2b4a98b7baa7",
   "metadata": {},
   "outputs": [],
   "source": [
    "# Reading CSV File"
   ]
  },
  {
   "cell_type": "code",
   "execution_count": 9,
   "id": "4df03315-ba46-4905-b8ee-741ece958bd0",
   "metadata": {},
   "outputs": [],
   "source": [
    "df = pd.read_csv('Poverty-Indicator_Disctrict-Wise.txt', sep=',')"
   ]
  },
  {
   "cell_type": "code",
   "execution_count": 12,
   "id": "79594f53-ed5c-4393-ae5e-b720ca4d1bb0",
   "metadata": {
    "tags": []
   },
   "outputs": [
    {
     "data": {
      "text/plain": [
       "0        69134\n",
       "1        69133\n",
       "2        69132\n",
       "3        69131\n",
       "4        69124\n",
       "         ...  \n",
       "11715    14022\n",
       "11716    14021\n",
       "11717    14013\n",
       "11718    14012\n",
       "11719    14011\n",
       "Name: Unit, Length: 11720, dtype: int64"
      ]
     },
     "execution_count": 12,
     "metadata": {},
     "output_type": "execute_result"
    }
   ],
   "source": [
    "df['Unit']"
   ]
  },
  {
   "cell_type": "markdown",
   "id": "91f20a4f-034a-403b-8167-292c26bd4d96",
   "metadata": {},
   "source": [
    "**3. Matplotlib**"
   ]
  },
  {
   "cell_type": "code",
   "execution_count": 13,
   "id": "4848f0be-789d-44c7-b6ba-acd7107bffc9",
   "metadata": {},
   "outputs": [
    {
     "data": {
      "text/plain": [
       "[<matplotlib.lines.Line2D at 0x1d9b1c9ed70>]"
      ]
     },
     "execution_count": 13,
     "metadata": {},
     "output_type": "execute_result"
    },
    {
     "data": {
      "image/png": "[encoded data removed]",
      "text/plain": [
       "<Figure size 640x480 with 1 Axes>"
      ]
     },
     "metadata": {},
     "output_type": "display_data"
    }
   ],
   "source": [
    "plt.plot(df['Unit'])"
   ]
  },
  {
   "cell_type": "markdown",
   "id": "b49e36e4-2da9-4681-87d8-dcc9546d49a1",
   "metadata": {},
   "source": [
    "## Analysing Data ==============="
   ]
  },
  {
   "cell_type": "code",
   "execution_count": 3,
   "id": "e743b731-345c-458f-a4fd-ef4fbd37c56d",
   "metadata": {},
   "outputs": [],
   "source": [
    "df = pd.read_csv('Commodies production in Nepal.txt', sep=',')"
   ]
  },
  {
   "cell_type": "code",
   "execution_count": 4,
   "id": "6492fc23-09ad-469b-886c-2ccb32650df8",
   "metadata": {},
   "outputs": [
    {
     "data": {
      "text/html": [
       "<div>\n",
       "<style scoped>\n",
       "    .dataframe tbody tr th:only-of-type {\n",
       "        vertical-align: middle;\n",
       "    }\n",
       "\n",
       "    .dataframe tbody tr th {\n",
       "        vertical-align: top;\n",
       "    }\n",
       "\n",
       "    .dataframe thead th {\n",
       "        text-align: right;\n",
       "    }\n",
       "</style>\n",
       "<table border=\"1\" class=\"dataframe\">\n",
       "  <thead>\n",
       "    <tr style=\"text-align: right;\">\n",
       "      <th></th>\n",
       "      <th>Year AD</th>\n",
       "      <th>Year BS</th>\n",
       "      <th>Commodity</th>\n",
       "      <th>Production In 1000 dollars</th>\n",
       "      <th>Production – MT</th>\n",
       "    </tr>\n",
       "  </thead>\n",
       "  <tbody>\n",
       "    <tr>\n",
       "      <th>0</th>\n",
       "      <td>2011</td>\n",
       "      <td>2068</td>\n",
       "      <td>Fruit, fresh nes</td>\n",
       "      <td>277190</td>\n",
       "      <td>794164.0</td>\n",
       "    </tr>\n",
       "    <tr>\n",
       "      <th>1</th>\n",
       "      <td>2011</td>\n",
       "      <td>2068</td>\n",
       "      <td>Ginger</td>\n",
       "      <td>146478</td>\n",
       "      <td>216289.0</td>\n",
       "    </tr>\n",
       "    <tr>\n",
       "      <th>2</th>\n",
       "      <td>2011</td>\n",
       "      <td>2068</td>\n",
       "      <td>Lentils</td>\n",
       "      <td>81210</td>\n",
       "      <td>206869.0</td>\n",
       "    </tr>\n",
       "    <tr>\n",
       "      <th>3</th>\n",
       "      <td>2011</td>\n",
       "      <td>2068</td>\n",
       "      <td>Maize</td>\n",
       "      <td>241848</td>\n",
       "      <td>2067522.0</td>\n",
       "    </tr>\n",
       "    <tr>\n",
       "      <th>4</th>\n",
       "      <td>2011</td>\n",
       "      <td>2068</td>\n",
       "      <td>Mangoes, mangosteens, guavas</td>\n",
       "      <td>105906</td>\n",
       "      <td>176756.0</td>\n",
       "    </tr>\n",
       "  </tbody>\n",
       "</table>\n",
       "</div>"
      ],
      "text/plain": [
       "   Year AD  Year BS                     Commodity  Production In 1000 dollars  \\\n",
       "0     2011     2068              Fruit, fresh nes                      277190   \n",
       "1     2011     2068                        Ginger                      146478   \n",
       "2     2011     2068                       Lentils                       81210   \n",
       "3     2011     2068                         Maize                      241848   \n",
       "4     2011     2068  Mangoes, mangosteens, guavas                      105906   \n",
       "\n",
       "   Production – MT  \n",
       "0         794164.0  \n",
       "1         216289.0  \n",
       "2         206869.0  \n",
       "3        2067522.0  \n",
       "4         176756.0  "
      ]
     },
     "execution_count": 4,
     "metadata": {},
     "output_type": "execute_result"
    }
   ],
   "source": [
    "df.head()"
   ]
  },
  {
   "cell_type": "code",
   "execution_count": 5,
   "id": "381083ec-d520-4ae5-9d40-cb6f773939f0",
   "metadata": {},
   "outputs": [
    {
     "data": {
      "text/plain": [
       "<matplotlib.collections.PathCollection at 0x1e40de69270>"
      ]
     },
     "execution_count": 5,
     "metadata": {},
     "output_type": "execute_result"
    },
    {
     "data": {
      "image/png": "[encoded data removed]",
      "text/plain": [
       "<Figure size 640x480 with 1 Axes>"
      ]
     },
     "metadata": {},
     "output_type": "display_data"
    }
   ],
   "source": [
    "plt.scatter(x=df['Production In 1000 dollars'], y=df['Production – MT'])"
   ]
  },
  {
   "cell_type": "code",
   "execution_count": 6,
   "id": "9b3605e2-fe40-4aa8-88d9-9dbc49a12bd4",
   "metadata": {},
   "outputs": [],
   "source": [
    "maize_filtered_df = df[df['Commodity'].str.contains('Maize')]"
   ]
  },
  {
   "cell_type": "code",
   "execution_count": 7,
   "id": "6a50a697-1fbf-4ccb-a8c5-d03df65184c5",
   "metadata": {},
   "outputs": [
    {
     "data": {
      "text/plain": [
       "[<matplotlib.lines.Line2D at 0x1e40e74e0b0>]"
      ]
     },
     "execution_count": 7,
     "metadata": {},
     "output_type": "execute_result"
    },
    {
     "data": {
      "image/png": "[encoded data removed]",
      "text/plain": [
       "<Figure size 640x480 with 1 Axes>"
      ]
     },
     "metadata": {},
     "output_type": "display_data"
    }
   ],
   "source": [
    "plt.plot(maize_filtered_df['Year AD'], maize_filtered_df['Production In 1000 dollars'], color='violet', label='Maize')"
   ]
  },
  {
   "cell_type": "code",
   "execution_count": 8,
   "id": "fb18100b-6efe-43ea-a5ad-57a9351123d2",
   "metadata": {},
   "outputs": [
    {
     "data": {
      "text/plain": [
       "<matplotlib.collections.PathCollection at 0x1e40def02b0>"
      ]
     },
     "execution_count": 8,
     "metadata": {},
     "output_type": "execute_result"
    },
    {
     "data": {
      "image/png": "[encoded data removed]",
      "text/plain": [
       "<Figure size 640x480 with 1 Axes>"
      ]
     },
     "metadata": {},
     "output_type": "display_data"
    }
   ],
   "source": [
    "plt.scatter(maize_filtered_df['Year AD'], maize_filtered_df['Production In 1000 dollars'], color='violet', label='Maize')"
   ]
  },
  {
   "cell_type": "code",
   "execution_count": 9,
   "id": "7f1e5d86-d0d2-465c-91b0-ea70288020d5",
   "metadata": {},
   "outputs": [],
   "source": [
    "slope, intercept, r, p, str_err = stats.linregress(maize_filtered_df['Year AD'], maize_filtered_df['Production In 1000 dollars'])"
   ]
  },
  {
   "cell_type": "code",
   "execution_count": 28,
   "id": "348967d8-3297-4862-8b85-784abd2079e5",
   "metadata": {},
   "outputs": [],
   "source": [
    "def new_pred(x):\n",
    "    return slope * x + intercept"
   ]
  },
  {
   "cell_type": "markdown",
   "id": "6c36e9e6-2b59-4bca-b3d5-139cf433945b",
   "metadata": {},
   "source": [
    "### Ploting Linear Line"
   ]
  },
  {
   "cell_type": "code",
   "execution_count": 26,
   "id": "a5c27abb-5d91-42c6-890c-c6e3dfa00d00",
   "metadata": {
    "collapsed": true,
    "jupyter": {
     "outputs_hidden": true
    },
    "tags": []
   },
   "outputs": [
    {
     "data": {
      "text/plain": [
       "3       2011\n",
       "23      2010\n",
       "43      2009\n",
       "64      2008\n",
       "84      2007\n",
       "104     2006\n",
       "123     2005\n",
       "144     2004\n",
       "164     2003\n",
       "184     2002\n",
       "203     2001\n",
       "223     2000\n",
       "243     1999\n",
       "263     1998\n",
       "283     1997\n",
       "303     1996\n",
       "323     1995\n",
       "343     1994\n",
       "363     1993\n",
       "383     1992\n",
       "403     1991\n",
       "422     1990\n",
       "443     1989\n",
       "463     1988\n",
       "483     1987\n",
       "503     1986\n",
       "523     1985\n",
       "544     1984\n",
       "564     1983\n",
       "584     1982\n",
       "604     1981\n",
       "625     1980\n",
       "645     1979\n",
       "664     1978\n",
       "685     1977\n",
       "705     1976\n",
       "725     1975\n",
       "745     1974\n",
       "764     1973\n",
       "784     1972\n",
       "804     1971\n",
       "824     1970\n",
       "844     1969\n",
       "864     1968\n",
       "884     1967\n",
       "904     1966\n",
       "924     1965\n",
       "944     1964\n",
       "964     1963\n",
       "985     1962\n",
       "1005    1961\n",
       "Name: Year AD, dtype: int64"
      ]
     },
     "execution_count": 26,
     "metadata": {},
     "output_type": "execute_result"
    }
   ],
   "source": [
    "maize_filtered_df['Year AD']"
   ]
  },
  {
   "cell_type": "code",
   "execution_count": 29,
   "id": "2c730ae7-9121-4268-bb6c-d3adac7fadc0",
   "metadata": {},
   "outputs": [],
   "source": [
    "mymodel = list(map(new_pred, maize_filtered_df['Year AD']))"
   ]
  },
  {
   "cell_type": "code",
   "execution_count": 30,
   "id": "85045059-ffa6-41cf-979c-96a4453ca54e",
   "metadata": {},
   "outputs": [
    {
     "data": {
      "text/plain": [
       "[<matplotlib.lines.Line2D at 0x1e41175f940>]"
      ]
     },
     "execution_count": 30,
     "metadata": {},
     "output_type": "execute_result"
    },
    {
     "data": {
      "image/png": "[encoded data removed]",
      "text/plain": [
       "<Figure size 640x480 with 1 Axes>"
      ]
     },
     "metadata": {},
     "output_type": "display_data"
    }
   ],
   "source": [
    "plt.scatter(maize_filtered_df['Year AD'], maize_filtered_df['Production In 1000 dollars'], color='violet', label='Maize')\n",
    "plt.plot(maize_filtered_df['Year AD'], mymodel)"
   ]
  },
  {
   "cell_type": "code",
   "execution_count": 31,
   "id": "39d1dbb3-516c-4f45-a35b-5ddabfc4d2b4",
   "metadata": {},
   "outputs": [],
   "source": [
    "new_data = [2015, 2020]\n",
    "new_pred = list(map(new_pred, new_data))"
   ]
  },
  {
   "cell_type": "code",
   "execution_count": 34,
   "id": "e6ed70b6-7562-4ee2-accc-32621b009f2d",
   "metadata": {},
   "outputs": [
    {
     "data": {
      "text/plain": [
       "<matplotlib.collections.PathCollection at 0x1e4115c9e70>"
      ]
     },
     "execution_count": 34,
     "metadata": {},
     "output_type": "execute_result"
    },
    {
     "data": {
      "image/png": "[encoded data removed]",
      "text/plain": [
       "<Figure size 640x480 with 1 Axes>"
      ]
     },
     "metadata": {},
     "output_type": "display_data"
    }
   ],
   "source": [
    "plt.scatter(maize_filtered_df['Year AD'], maize_filtered_df['Production In 1000 dollars'], color='violet', label='Maize')\n",
    "plt.plot(maize_filtered_df['Year AD'], mymodel)\n",
    "plt.scatter(new_data, new_pred, color='red')"
   ]
  },
  {
   "cell_type": "markdown",
   "id": "a8bb2894-1be3-4c20-bd7c-f5421d105204",
   "metadata": {},
   "source": [
    "### ***** END OF FILE ***********************************"
   ]
  }
 ],
 "metadata": {
  "kernelspec": {
   "display_name": "Python 3 (ipykernel)",
   "language": "python",
   "name": "python3"
  },
  "language_info": {
   "codemirror_mode": {
    "name": "ipython",
    "version": 3
   },
   "file_extension": ".py",
   "mimetype": "text/x-python",
   "name": "python",
   "nbconvert_exporter": "python",
   "pygments_lexer": "ipython3",
   "version": "3.10.9"
  }
 },
 "nbformat": 4,
 "nbformat_minor": 5
}
